{
  "nbformat": 4,
  "nbformat_minor": 0,
  "metadata": {
    "colab": {
      "provenance": []
    },
    "kernelspec": {
      "name": "python3",
      "display_name": "Python 3"
    },
    "language_info": {
      "name": "python"
    }
  },
  "cells": [
    {
      "cell_type": "markdown",
      "source": [
        "#Web scraping and Extracting Data using APIs"
      ],
      "metadata": {
        "id": "560bZ4bc8o86"
      }
    },
    {
      "cell_type": "markdown",
      "source": [
        "###Step 1: Install required libraries"
      ],
      "metadata": {
        "id": "9Yafxs3I8GPj"
      }
    },
    {
      "cell_type": "code",
      "source": [
        "# Install necessary libraries\n",
        "!pip install pandas beautifulsoup4"
      ],
      "metadata": {
        "id": "3WVxq4Rb7_he",
        "outputId": "c0e02b6d-9adf-4d9f-babf-8ac6293160de",
        "colab": {
          "base_uri": "https://localhost:8080/"
        }
      },
      "execution_count": 21,
      "outputs": [
        {
          "output_type": "stream",
          "name": "stdout",
          "text": [
            "Requirement already satisfied: pandas in /usr/local/lib/python3.10/dist-packages (2.2.2)\n",
            "Requirement already satisfied: beautifulsoup4 in /usr/local/lib/python3.10/dist-packages (4.12.3)\n",
            "Requirement already satisfied: numpy>=1.22.4 in /usr/local/lib/python3.10/dist-packages (from pandas) (1.26.4)\n",
            "Requirement already satisfied: python-dateutil>=2.8.2 in /usr/local/lib/python3.10/dist-packages (from pandas) (2.8.2)\n",
            "Requirement already satisfied: pytz>=2020.1 in /usr/local/lib/python3.10/dist-packages (from pandas) (2024.2)\n",
            "Requirement already satisfied: tzdata>=2022.7 in /usr/local/lib/python3.10/dist-packages (from pandas) (2024.2)\n",
            "Requirement already satisfied: soupsieve>1.2 in /usr/local/lib/python3.10/dist-packages (from beautifulsoup4) (2.6)\n",
            "Requirement already satisfied: six>=1.5 in /usr/local/lib/python3.10/dist-packages (from python-dateutil>=2.8.2->pandas) (1.16.0)\n"
          ]
        }
      ]
    },
    {
      "cell_type": "markdown",
      "source": [
        "###Step 2: Import libraries"
      ],
      "metadata": {
        "id": "BvE4BcIb8Jr8"
      }
    },
    {
      "cell_type": "code",
      "source": [
        "# Import required libraries\n",
        "import requests\n",
        "import sqlite3\n",
        "import pandas as pd\n",
        "from bs4 import BeautifulSoup"
      ],
      "metadata": {
        "id": "-gSp7cpG8AGc"
      },
      "execution_count": 22,
      "outputs": []
    },
    {
      "cell_type": "markdown",
      "source": [
        "###Step 3: Initialization"
      ],
      "metadata": {
        "id": "8lDfqtLF8YCG"
      }
    },
    {
      "cell_type": "code",
      "source": [
        "# Initialize variables\n",
        "url = 'https://web.archive.org/web/20230902185655/https://en.everybodywiki.com/100_Most_Highly-Ranked_Films'\n",
        "db_name = 'Movies.db'\n",
        "table_name = 'Top_50'\n",
        "csv_path = 'top_50_films.csv'\n",
        "df = pd.DataFrame(columns=[\"Average Rank\", \"Film\", \"Year\"])\n",
        "count = 0\n"
      ],
      "metadata": {
        "id": "383neTZG8Bfs"
      },
      "execution_count": 23,
      "outputs": []
    },
    {
      "cell_type": "markdown",
      "source": [
        "###Step 4: Fetch and parse the webpage"
      ],
      "metadata": {
        "id": "UrbGyVDf8Mnk"
      }
    },
    {
      "cell_type": "code",
      "source": [
        "# Fetch the HTML content of the webpage\n",
        "html_page = requests.get(url).text\n",
        "\n",
        "# Parse the HTML using BeautifulSoup\n",
        "data = BeautifulSoup(html_page, 'html.parser')\n"
      ],
      "metadata": {
        "id": "ouk5pMkK8CXU"
      },
      "execution_count": 24,
      "outputs": []
    },
    {
      "cell_type": "markdown",
      "source": [
        "###Step 5: Extract relevant information"
      ],
      "metadata": {
        "id": "jlo5qxOc8P4A"
      }
    },
    {
      "cell_type": "code",
      "source": [
        "# Find the first table and extract rows\n",
        "tables = data.find_all('tbody')\n",
        "rows = tables[0].find_all('tr')\n",
        "\n",
        "# Loop through rows to get data\n",
        "for row in rows:\n",
        "    if count < 50:\n",
        "        col = row.find_all('td')\n",
        "        if len(col) != 0:\n",
        "            data_dict = {\n",
        "                \"Average Rank\": col[0].contents[0],\n",
        "                \"Film\": col[1].contents[0],\n",
        "                \"Year\": col[2].contents[0]\n",
        "            }\n",
        "            df1 = pd.DataFrame(data_dict, index=[0])\n",
        "            df = pd.concat([df, df1], ignore_index=True)\n",
        "            count += 1\n",
        "    else:\n",
        "        break\n"
      ],
      "metadata": {
        "id": "gReEkQrl8DzL"
      },
      "execution_count": 25,
      "outputs": []
    },
    {
      "cell_type": "markdown",
      "source": [
        "###Step 6: Save data to a CSV file"
      ],
      "metadata": {
        "id": "X8SEfd4o8SPO"
      }
    },
    {
      "cell_type": "code",
      "source": [
        "# Save the DataFrame to a CSV file\n",
        "df.to_csv(csv_path, index=False)\n",
        "print(f\"Data saved to {csv_path}\")\n"
      ],
      "metadata": {
        "id": "us_RPGfB8FA0",
        "outputId": "bfc6734e-a3bc-4fc1-ceb9-147a3d1d344d",
        "colab": {
          "base_uri": "https://localhost:8080/"
        }
      },
      "execution_count": 27,
      "outputs": [
        {
          "output_type": "stream",
          "name": "stdout",
          "text": [
            "Data saved to top_50_films.csv\n"
          ]
        }
      ]
    },
    {
      "cell_type": "markdown",
      "source": [
        "###Step 7: Save data to an SQLite database"
      ],
      "metadata": {
        "id": "x-dJnQL08gnk"
      }
    },
    {
      "cell_type": "code",
      "source": [
        "# Save the DataFrame to a SQLite database\n",
        "conn = sqlite3.connect(db_name)\n",
        "df.to_sql(table_name, conn, if_exists='replace', index=False)\n",
        "conn.close()\n",
        "print(f\"Data saved to database {db_name} in table {table_name}\")\n"
      ],
      "metadata": {
        "id": "TF-FqPVm8VB0",
        "outputId": "b6d2028d-8d8d-45bd-ed4d-4c0e122bcd66",
        "colab": {
          "base_uri": "https://localhost:8080/"
        }
      },
      "execution_count": 28,
      "outputs": [
        {
          "output_type": "stream",
          "name": "stdout",
          "text": [
            "Data saved to database Movies.db in table Top_50\n"
          ]
        }
      ]
    },
    {
      "cell_type": "markdown",
      "source": [
        "###Step 8: Verify the DataFrame"
      ],
      "metadata": {
        "id": "YrDdiCz48kMi"
      }
    },
    {
      "cell_type": "code",
      "source": [
        "# Display the DataFrame\n",
        "print(df)\n"
      ],
      "metadata": {
        "id": "kEaZp5A88iPs",
        "outputId": "376cdece-c071-476d-c165-e25d8eb869c2",
        "colab": {
          "base_uri": "https://localhost:8080/"
        }
      },
      "execution_count": 29,
      "outputs": [
        {
          "output_type": "stream",
          "name": "stdout",
          "text": [
            "   Average Rank                                           Film  Year\n",
            "0             1                                  The Godfather  1972\n",
            "1             2                                   Citizen Kane  1941\n",
            "2             3                                     Casablanca  1942\n",
            "3             4                         The Godfather, Part II  1974\n",
            "4             5                            Singin' in the Rain  1952\n",
            "5             6                                         Psycho  1960\n",
            "6             7                                    Rear Window  1954\n",
            "7             8                                 Apocalypse Now  1979\n",
            "8             9                          2001: A Space Odyssey  1968\n",
            "9            10                                  Seven Samurai  1954\n",
            "10           11                                        Vertigo  1958\n",
            "11           12                                    Sunset Blvd  1950\n",
            "12           13                                   Modern Times  1936\n",
            "13           14                             Lawrence of Arabia  1962\n",
            "14           15                             North by Northwest  1959\n",
            "15           16                                      Star Wars  1977\n",
            "16           17                                       Parasite  2019\n",
            "17           18                               Schindler's List  1993\n",
            "18           19  Lord of the Rings: The Fellowship of the Ring  2001\n",
            "19           20                           Shawshank Redemption  1994\n",
            "20           21                          It's a Wonderful Life  1946\n",
            "21           22                                   Pulp Fiction  1994\n",
            "22           23                              Avengers: Endgame  2019\n",
            "23           24                                    City Lights  1931\n",
            "24           25                One Flew Over the Cuckoo's Nest  1975\n",
            "25           26                                     Goodfellas  1990\n",
            "26           27                        Raiders of the Lost Ark  1981\n",
            "27           28                                   12 Angry Men  1957\n",
            "28           29                       The Silence of the Lambs  1991\n",
            "29           30                                    Taxi Driver  1976\n",
            "30           31                            Saving Private Ryan  1998\n",
            "31           32                     E.T. the Extra Terrestrial  1982\n",
            "32           33                                          Alien  1979\n",
            "33           34              Spider-Man: Into the Spider-verse  2018\n",
            "34           35                                   Blade Runner  1982\n",
            "35           36                               Double Indemnity  1944\n",
            "36           37                                The Dark Knight  2008\n",
            "37           38                               The Wizard of Oz  1939\n",
            "38           39  Star Wars: Episode V- The Empire Strikes Back  1980\n",
            "39           40                                  The Searchers  1956\n",
            "40           41                             Mad Max: Fury Road  2015\n",
            "41           42                                      Inception  2010\n",
            "42           43          Lord of the Rings: Return of the King  2003\n",
            "43           44                                     The Matrix  1999\n",
            "44           45                                     Fight Club  1999\n",
            "45           46                             Back to the Future  1985\n",
            "46           47                          It Happened One Night  1934\n",
            "47           48                The Good, the Bad, and the Ugly  1966\n",
            "48           49              Lord of the Rings: The Two Towers  2002\n",
            "49           50                                  All About Eve  1950\n"
          ]
        }
      ]
    },
    {
      "cell_type": "code",
      "source": [],
      "metadata": {
        "id": "41ggCAtv8lsE"
      },
      "execution_count": null,
      "outputs": []
    }
  ]
}